{
 "cells": [
  {
   "cell_type": "code",
   "execution_count": 1,
   "metadata": {},
   "outputs": [],
   "source": [
    "import numpy as np\n",
    "A= np.array([[-2,1,4],[1,1,1], [4,1,-2]])\n",
    "\n",
    "\n",
    "\n"
   ]
  },
  {
   "cell_type": "code",
   "execution_count": 2,
   "metadata": {},
   "outputs": [
    {
     "name": "stdout",
     "output_type": "stream",
     "text": [
      "[ 7.07106781e-01  2.28705943e-14 -7.07106781e-01]\n",
      "-6.000000000000002\n"
     ]
    }
   ],
   "source": [
    "x0= np.array([1,2,1])\n",
    "for i in range (100):\n",
    "    w = np.matmul(A, x0)\n",
    "    x1= w/np.linalg.norm(w, ord=2)\n",
    "    x0=x1\n",
    "print(x0)\n",
    "print(np.matmul(np.matmul(x0, A), x0))"
   ]
  },
  {
   "cell_type": "code",
   "execution_count": 3,
   "metadata": {},
   "outputs": [
    {
     "name": "stdout",
     "output_type": "stream",
     "text": [
      "-6.000000000000002\n",
      "[ 7.07106781e-01  7.56979412e-18 -7.07106781e-01]\n"
     ]
    }
   ],
   "source": [
    "w, v= np.linalg.eig(A)\n",
    "print(w[0])\n",
    "print(v[:, 0])"
   ]
  },
  {
   "cell_type": "code",
   "execution_count": null,
   "metadata": {},
   "outputs": [],
   "source": []
  }
 ],
 "metadata": {
  "kernelspec": {
   "display_name": "Python 3",
   "language": "python",
   "name": "python3"
  },
  "language_info": {
   "codemirror_mode": {
    "name": "ipython",
    "version": 3
   },
   "file_extension": ".py",
   "mimetype": "text/x-python",
   "name": "python",
   "nbconvert_exporter": "python",
   "pygments_lexer": "ipython3",
   "version": "3.8.5"
  }
 },
 "nbformat": 4,
 "nbformat_minor": 4
}
